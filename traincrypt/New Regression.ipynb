{
 "cells": [
  {
   "cell_type": "markdown",
   "metadata": {},
   "source": [
    "# Privacy Preserving Linear Regression on `load_boston` Data using TensorFlow API"
   ]
  },
  {
   "cell_type": "code",
   "execution_count": 1,
   "metadata": {},
   "outputs": [],
   "source": [
    "# ML\n",
    "import matplotlib.pyplot as plt\n",
    "%matplotlib inline\n",
    "import tensorflow as tf\n",
    "import numpy as np\n",
    "from sklearn.datasets import load_boston\n",
    "\n",
    "# crypto\n",
    "from phe import paillier"
   ]
  },
  {
   "cell_type": "markdown",
   "metadata": {},
   "source": [
    "## Part 1 - Train the model using plaintext"
   ]
  },
  {
   "cell_type": "code",
   "execution_count": 2,
   "metadata": {},
   "outputs": [],
   "source": [
    "def feature_normalize(dataset):\n",
    "    mu = np.mean(dataset, axis=0)\n",
    "    sigma = np.std(dataset, axis=0)\n",
    "    return (dataset - mu)/sigma\n",
    "\n",
    "def append_bias_reshape(features, labels):\n",
    "    n_training_samples, n_dim = features.shape\n",
    "    # concatenate a column of 1's (the bias factor) to the feature set\n",
    "    f = np.reshape(np.c_[np.ones(n_training_samples), features], [n_training_samples, n_dim + 1])\n",
    "    l = np.reshape(labels, [n_training_samples, 1])\n",
    "    return f, l"
   ]
  },
  {
   "cell_type": "code",
   "execution_count": 3,
   "metadata": {},
   "outputs": [],
   "source": [
    "# 1 - load the dataset\n",
    "features, labels = load_boston(True)\n",
    "\n",
    "# 2 - normalize the features\n",
    "normalized_features = feature_normalize(features)\n",
    "\n",
    "# 3 - append the bias column and reshape the data\n",
    "f, l = append_bias_reshape(normalized_features, labels)\n",
    "n_dim = f.shape[1]\n",
    "\n",
    "# 4 - randomly partition the data into training and testing sets with 20% of data for testing\n",
    "rnd_indices = np.random.rand(len(f)) < 0.8\n",
    "\n",
    "train_x = f[rnd_indices]\n",
    "train_y = l[rnd_indices]\n",
    "test_x = f[~rnd_indices]\n",
    "test_y = l[~rnd_indices]"
   ]
  },
  {
   "cell_type": "code",
   "execution_count": 4,
   "metadata": {},
   "outputs": [],
   "source": [
    "# 5 - set model parameters\n",
    "learning_rate = 0.01\n",
    "training_epochs = 1000\n",
    "cost_history = np.empty(shape=[1], dtype=float)\n",
    "\n",
    "X = tf.placeholder(tf.float32, [None, n_dim])\n",
    "Y = tf.placeholder(tf.float32, [None, 1])\n",
    "W = tf.Variable(tf.ones([n_dim, 1]))\n",
    "\n",
    "init = tf.global_variables_initializer()"
   ]
  },
  {
   "cell_type": "code",
   "execution_count": 5,
   "metadata": {},
   "outputs": [],
   "source": [
    "# 6 - construct the TF dataflow graph\n",
    "y_ = tf.matmul(X, W)\n",
    "cost = tf.reduce_mean(tf.square(y_ - Y))\n",
    "training_step = tf.train.GradientDescentOptimizer(learning_rate).minimize(cost)"
   ]
  },
  {
   "cell_type": "code",
   "execution_count": 6,
   "metadata": {},
   "outputs": [],
   "source": [
    "# 7 - train the model\n",
    "sess = tf.Session()\n",
    "sess.run(init)\n",
    "\n",
    "for epoch in range(training_epochs):\n",
    "    sess.run(training_step, feed_dict={\n",
    "        X: train_x,\n",
    "        Y: train_y\n",
    "    })\n",
    "    cost_history = np.append(cost_history, sess.run(cost, feed_dict={\n",
    "        X: train_x,\n",
    "        Y: train_y\n",
    "    }))"
   ]
  },
  {
   "cell_type": "code",
   "execution_count": 7,
   "metadata": {},
   "outputs": [
    {
     "data": {
      "image/png": "[encoded data removed]",
      "text/plain": [
       "<Figure size 432x288 with 1 Axes>"
      ]
     },
     "metadata": {},
     "output_type": "display_data"
    }
   ],
   "source": [
    "# 8 - plot cost history as training was performed\n",
    "plt.plot(range(len(cost_history)), cost_history)\n",
    "plt.axis([0, training_epochs, 0, np.max(cost_history)])\n",
    "plt.show()"
   ]
  },
  {
   "cell_type": "code",
   "execution_count": 8,
   "metadata": {},
   "outputs": [
    {
     "name": "stdout",
     "output_type": "stream",
     "text": [
      "Mean square error: 35.06235297048453\n"
     ]
    },
    {
     "data": {
      "image/png": "[encoded data removed]",
      "text/plain": [
       "<Figure size 432x288 with 1 Axes>"
      ]
     },
     "metadata": {},
     "output_type": "display_data"
    }
   ],
   "source": [
    "# 9 - test the model on testing data\n",
    "pred_y = sess.run(y_, feed_dict = {\n",
    "    X: test_x\n",
    "})\n",
    "mse = tf.reduce_mean(tf.square(pred_y - test_y))\n",
    "print('Mean square error: {}'.format(sess.run(mse)))\n",
    "\n",
    "fig, ax = plt.subplots()\n",
    "ax.scatter(test_y, pred_y)\n",
    "ax.plot([test_y.min(), test_y.max()], [test_y.min(), test_y.max()], 'k--', lw=3)\n",
    "ax.set_xlabel('Measured')\n",
    "ax.set_ylabel('Predicted')\n",
    "plt.show()"
   ]
  },
  {
   "cell_type": "markdown",
   "metadata": {},
   "source": [
    "## Part 2 - Perform Prediction on Encrypted Data"
   ]
  },
  {
   "cell_type": "code",
   "execution_count": 36,
   "metadata": {},
   "outputs": [],
   "source": [
    "# Generate Paillier keypair\n",
    "pubkey, privkey = paillier.generate_paillier_keypair(n_length=512)"
   ]
  },
  {
   "cell_type": "code",
   "execution_count": 37,
   "metadata": {},
   "outputs": [],
   "source": [
    "import copy\n",
    "from decimal import Decimal\n",
    "\n",
    "# Pick a feature row and modify it slightly to simulate an incoming, new data\n",
    "newFeatures = copy.deepcopy(f[10])\n",
    "standardNormalRandom = [x/10 for x in np.random.randn(14, 1)]\n",
    "for i in range(len(newFeatures)):\n",
    "    newFeatures[i] += standardNormalRandom[i]"
   ]
  },
  {
   "cell_type": "code",
   "execution_count": 47,
   "metadata": {},
   "outputs": [],
   "source": [
    "# Encrypt the data\n",
    "enc_newFeatures = np.array([Decimal(pubkey.encrypt(x).ciphertext()) for x in newFeatures])\n",
    "enc_newFeatures = np.reshape(enc_newFeatures, (1, len(newFeatures)))"
   ]
  },
  {
   "cell_type": "code",
   "execution_count": 52,
   "metadata": {},
   "outputs": [
    {
     "name": "stdout",
     "output_type": "stream",
     "text": [
      "[[nan]]\n"
     ]
    }
   ],
   "source": [
    "# Performm prediction over the trained model\n",
    "pred_enc = sess.run(y_, feed_dict = {\n",
    "    X: enc_newFeatures\n",
    "})\n",
    "print(pred_enc)"
   ]
  },
  {
   "cell_type": "code",
   "execution_count": 51,
   "metadata": {},
   "outputs": [
    {
     "ename": "TypeError",
     "evalue": "Expected encrypted_number to be an EncryptedNumber not: <class 'numpy.ndarray'>",
     "output_type": "error",
     "traceback": [
      "\u001b[0;31m---------------------------------------------------------------------------\u001b[0m",
      "\u001b[0;31mTypeError\u001b[0m                                 Traceback (most recent call last)",
      "\u001b[0;32m<ipython-input-51-c0f7c6e12253>\u001b[0m in \u001b[0;36m<module>\u001b[0;34m()\u001b[0m\n\u001b[1;32m      1\u001b[0m \u001b[0;31m# Decrypt the output to see the prediciton result\u001b[0m\u001b[0;34m\u001b[0m\u001b[0;34m\u001b[0m\u001b[0m\n\u001b[0;32m----> 2\u001b[0;31m \u001b[0mprediction\u001b[0m \u001b[0;34m=\u001b[0m \u001b[0mprivkey\u001b[0m\u001b[0;34m.\u001b[0m\u001b[0mdecrypt\u001b[0m\u001b[0;34m(\u001b[0m\u001b[0mpred_enc\u001b[0m\u001b[0;34m)\u001b[0m\u001b[0;34m\u001b[0m\u001b[0m\n\u001b[0m\u001b[1;32m      3\u001b[0m \u001b[0mprint\u001b[0m\u001b[0;34m(\u001b[0m\u001b[0;34m'prediction:'\u001b[0m\u001b[0;34m,\u001b[0m \u001b[0mprediction\u001b[0m\u001b[0;34m)\u001b[0m\u001b[0;34m\u001b[0m\u001b[0m\n",
      "\u001b[0;32m~/repos/traincrypt/lib/python3.6/site-packages/phe/paillier.py\u001b[0m in \u001b[0;36mdecrypt\u001b[0;34m(self, encrypted_number)\u001b[0m\n\u001b[1;32m    284\u001b[0m             \u001b[0mdifferent\u001b[0m \u001b[0mkey\u001b[0m\u001b[0;34m.\u001b[0m\u001b[0;34m\u001b[0m\u001b[0m\n\u001b[1;32m    285\u001b[0m         \"\"\"\n\u001b[0;32m--> 286\u001b[0;31m         \u001b[0mencoded\u001b[0m \u001b[0;34m=\u001b[0m \u001b[0mself\u001b[0m\u001b[0;34m.\u001b[0m\u001b[0mdecrypt_encoded\u001b[0m\u001b[0;34m(\u001b[0m\u001b[0mencrypted_number\u001b[0m\u001b[0;34m)\u001b[0m\u001b[0;34m\u001b[0m\u001b[0m\n\u001b[0m\u001b[1;32m    287\u001b[0m         \u001b[0;32mreturn\u001b[0m \u001b[0mencoded\u001b[0m\u001b[0;34m.\u001b[0m\u001b[0mdecode\u001b[0m\u001b[0;34m(\u001b[0m\u001b[0;34m)\u001b[0m\u001b[0;34m\u001b[0m\u001b[0m\n\u001b[1;32m    288\u001b[0m \u001b[0;34m\u001b[0m\u001b[0m\n",
      "\u001b[0;32m~/repos/traincrypt/lib/python3.6/site-packages/phe/paillier.py\u001b[0m in \u001b[0;36mdecrypt_encoded\u001b[0;34m(self, encrypted_number, Encoding)\u001b[0m\n\u001b[1;32m    309\u001b[0m         \u001b[0;32mif\u001b[0m \u001b[0;32mnot\u001b[0m \u001b[0misinstance\u001b[0m\u001b[0;34m(\u001b[0m\u001b[0mencrypted_number\u001b[0m\u001b[0;34m,\u001b[0m \u001b[0mEncryptedNumber\u001b[0m\u001b[0;34m)\u001b[0m\u001b[0;34m:\u001b[0m\u001b[0;34m\u001b[0m\u001b[0m\n\u001b[1;32m    310\u001b[0m             raise TypeError('Expected encrypted_number to be an EncryptedNumber'\n\u001b[0;32m--> 311\u001b[0;31m                             ' not: %s' % type(encrypted_number))\n\u001b[0m\u001b[1;32m    312\u001b[0m \u001b[0;34m\u001b[0m\u001b[0m\n\u001b[1;32m    313\u001b[0m         \u001b[0;32mif\u001b[0m \u001b[0mself\u001b[0m\u001b[0;34m.\u001b[0m\u001b[0mpublic_key\u001b[0m \u001b[0;34m!=\u001b[0m \u001b[0mencrypted_number\u001b[0m\u001b[0;34m.\u001b[0m\u001b[0mpublic_key\u001b[0m\u001b[0;34m:\u001b[0m\u001b[0;34m\u001b[0m\u001b[0m\n",
      "\u001b[0;31mTypeError\u001b[0m: Expected encrypted_number to be an EncryptedNumber not: <class 'numpy.ndarray'>"
     ]
    }
   ],
   "source": [
    "# Decrypt the output to see the prediciton result\n",
    "\n",
    "prediction = privkey.decrypt(pred_enc)\n",
    "print('prediction:', prediction)"
   ]
  },
  {
   "cell_type": "code",
   "execution_count": 49,
   "metadata": {},
   "outputs": [
    {
     "data": {
      "text/plain": [
       "(1, 14)"
      ]
     },
     "execution_count": 49,
     "metadata": {},
     "output_type": "execute_result"
    }
   ],
   "source": [
    "enc_newFeatures.shape"
   ]
  },
  {
   "cell_type": "code",
   "execution_count": 40,
   "metadata": {},
   "outputs": [
    {
     "data": {
      "text/plain": [
       "[Decimal('70732883696323297383500971337535336809157834097716877678932716225977237808948277759110463940674995048412069976642488996291339972504896432991101655169979986183355253525562738460076428371079002942915846835338089749802346013331976600729616883861947286737374870489141656672173322451376877831719658521506653993485'),\n",
       " Decimal('83938841860085896753134746730523536746351670867291204212243215873463840169567052519670184347510670512483089511896655025561937915511477809295595736653896766827233078441858611082768946566074179654698329210724682085572053215425056438992796231208563905759810823201775704885955172737234137687410731653571208842264'),\n",
       " Decimal('5868416202389812376960550121700137655679728959392432737025393578024911906387796281569602955178857506843511462735169211155685844882824450410458850565763571610627543854731067571823007143923382652504552829571440296527052831309676547284586681623089931947885603979123696433060736270383437802553585508685227107941'),\n",
       " Decimal('36383699898607765570141687775132057884561094554025194509538832512544582783044248326834177665500888942749585378579767871264074745542452130719417819320515531202211327903978159672534456464087885880207681812058699747305883069803393239219518650751357676423562212979003649213842485969005931387162221631913939586264'),\n",
       " Decimal('33695710967064862980556721946039654182314085617874786895130315168292013133847886787636943933005871000553669208192993528305547201741129386783666140292111903877709515759491809317703665313277222556058822538024752270246294744635808348896193249662102822425176339870940426380273998125755484068388317880177144696571'),\n",
       " Decimal('70422375040901020605927657639968973343238465174591754352340492969586663205119878987510969792013759701669944507902272380008721822757794610900833028357159827328079296610620265126671375796571748003352156292268122926516322781318227547563340756241313227313209906554033151976970704341823879666522924159167522253389'),\n",
       " Decimal('74103256816558154107828457415981507103410565285516700683846441517687009228589266312055267360281463483835591946814643888303729004637730066124759269580403199460533950662111405005916947854389096974073403931370682857990986665120077990095170755691792099379044249813598920712166035458978511341003263242504073460168'),\n",
       " Decimal('91975823476866824360457726116604870769246195856032991427708837070685355640230640676974564265390343379930958537295047153801859638603031928287523338834356588360063630131613829897181029015912670452056670342878746053993206410561743950693595287246448142162731095859967841906524463301060689248718805466695720269172'),\n",
       " Decimal('59839953718481033170018614061783221523462856015708604258879915800460695844560880538019348789589968894719639556661323118377982872166815472620544974878498582979582369409013300467516029469736194480601725280948931279567996583617303914853305859970380076675021985103069558107420724623993408103464053402861205895093'),\n",
       " Decimal('33024959467135770636859342558912736102435601882099516851625118418985666159334606914929463021885114128447364878047970899356026982470930709995681018558269382182605488285255855967254797377752910839366049004664314486491697945147010134549916797682273351798979449772357055272611819385345363616872474270778272396846'),\n",
       " Decimal('36689625491099769050716592649044294669717176466071949403176427821103190314493587232916320858172889268294905715927626380993324167407826941940022051208761532821988743189625526760910044543245813334670557984420545232452177545691656857932744497713459586049331956780469812617964627293295127619772949000217269602840'),\n",
       " Decimal('90223695208527719384644981319428036217734555753143462434162444076590057329047074764714688958789949141169269480625262741876247901272050274035345711171351442682278482757321083982222592798645088142933486817726108880776678538479493571947884898412613324085772880037911545550558285046882582495194049219419162977757'),\n",
       " Decimal('31320065912342444264893230898524827877513402473012068537084322447031819910236888636791686606547519065006331187343410916445449479092138045812546259782006668497724911265926639571773731065351754827395226804069272747578697892922978939192231225442957579467661436500987491891437815771247390270817698443053314801390'),\n",
       " Decimal('1973922957516998996481287120789102616112258854855375111344699806054606522099977669528184657651909528997539948854084941721687589180887973824198639948719529804477927732118025880712574873998714468017133340133011275600516555130725388371312531720921766662171856297839060986754278047859198033433001843373540461457')]"
      ]
     },
     "execution_count": 40,
     "metadata": {},
     "output_type": "execute_result"
    }
   ],
   "source": [
    "enc_newFeatures"
   ]
  },
  {
   "cell_type": "code",
   "execution_count": null,
   "metadata": {},
   "outputs": [],
   "source": [
    "sess.close()"
   ]
  }
 ],
 "metadata": {
  "kernelspec": {
   "display_name": "Python 3",
   "language": "python",
   "name": "python3"
  },
  "language_info": {
   "codemirror_mode": {
    "name": "ipython",
    "version": 3
   },
   "file_extension": ".py",
   "mimetype": "text/x-python",
   "name": "python",
   "nbconvert_exporter": "python",
   "pygments_lexer": "ipython3",
   "version": "3.6.6rc1"
  }
 },
 "nbformat": 4,
 "nbformat_minor": 2
}
