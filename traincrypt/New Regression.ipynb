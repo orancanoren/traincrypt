{
 "cells": [
  {
   "cell_type": "markdown",
   "metadata": {},
   "source": [
    "# Privacy Preserving Linear Regression on `load_boston` Data using TensorFlow API"
   ]
  },
  {
   "cell_type": "code",
   "execution_count": 1,
   "metadata": {},
   "outputs": [],
   "source": [
    "import math\n",
    "# ML\n",
    "import matplotlib.pyplot as plt\n",
    "%matplotlib inline\n",
    "import tensorflow as tf\n",
    "import numpy as np\n",
    "from sklearn.datasets import load_boston\n",
    "\n",
    "# crypto\n",
    "from phe import paillier"
   ]
  },
  {
   "cell_type": "markdown",
   "metadata": {},
   "source": [
    "## Part 1 - Train the model using plaintext"
   ]
  },
  {
   "cell_type": "code",
   "execution_count": 2,
   "metadata": {},
   "outputs": [],
   "source": [
    "def feature_normalize(dataset):\n",
    "    mu = np.mean(dataset, axis=0)\n",
    "    sigma = np.std(dataset, axis=0)\n",
    "    return (dataset - mu)/sigma\n",
    "\n",
    "def append_bias_reshape(features, labels):\n",
    "    n_training_samples, n_dim = features.shape\n",
    "    # concatenate a column of 1's (the bias factor) to the feature set\n",
    "    f = np.reshape(np.c_[np.ones(n_training_samples), features], [n_training_samples, n_dim + 1])\n",
    "    l = np.reshape(labels, [n_training_samples, 1])\n",
    "    return f, l"
   ]
  },
  {
   "cell_type": "code",
   "execution_count": 3,
   "metadata": {},
   "outputs": [],
   "source": [
    "# 1 - load the dataset\n",
    "features, labels = load_boston(True)\n",
    "\n",
    "# 2 - normalize the features\n",
    "normalized_features = feature_normalize(features)\n",
    "\n",
    "# 3 - append the bias column and reshape the data\n",
    "f, l = append_bias_reshape(normalized_features, labels)\n",
    "n_dim = f.shape[1]\n",
    "\n",
    "# 4 - randomly partition the data into training and testing sets with 20% of data for testing\n",
    "rnd_indices = np.random.rand(len(f)) < 0.8\n",
    "\n",
    "train_x = f[rnd_indices]\n",
    "train_y = l[rnd_indices]\n",
    "test_x = f[~rnd_indices]\n",
    "test_y = l[~rnd_indices]"
   ]
  },
  {
   "cell_type": "code",
   "execution_count": 4,
   "metadata": {},
   "outputs": [],
   "source": [
    "# 5 - set model parameters\n",
    "learning_rate = 0.01\n",
    "training_epochs = 1000\n",
    "cost_history = np.empty(shape=[1], dtype=float)\n",
    "\n",
    "X = tf.placeholder(tf.float64, [None, n_dim])\n",
    "Y = tf.placeholder(tf.float64, [None, 1])\n",
    "W = tf.Variable(tf.ones([n_dim, 1], tf.float64), dtype=tf.float64)\n",
    "\n",
    "init = tf.global_variables_initializer()"
   ]
  },
  {
   "cell_type": "code",
   "execution_count": 5,
   "metadata": {},
   "outputs": [],
   "source": [
    "# 6 - construct the TF dataflow graph\n",
    "y_ = tf.matmul(X, W)\n",
    "cost = tf.reduce_mean(tf.square(y_ - Y))\n",
    "training_step = tf.train.GradientDescentOptimizer(learning_rate).minimize(cost)"
   ]
  },
  {
   "cell_type": "code",
   "execution_count": 6,
   "metadata": {},
   "outputs": [],
   "source": [
    "# 7 - train the model\n",
    "sess = tf.Session()\n",
    "sess.run(init)\n",
    "\n",
    "for epoch in range(training_epochs):\n",
    "    sess.run(training_step, feed_dict={\n",
    "        X: train_x,\n",
    "        Y: train_y\n",
    "    })\n",
    "    cost_history = np.append(cost_history, sess.run(cost, feed_dict={\n",
    "        X: train_x,\n",
    "        Y: train_y\n",
    "    }))"
   ]
  },
  {
   "cell_type": "code",
   "execution_count": 7,
   "metadata": {},
   "outputs": [
    {
     "data": {
      "image/png": "[encoded data removed]",
      "text/plain": [
       "<Figure size 432x288 with 1 Axes>"
      ]
     },
     "metadata": {},
     "output_type": "display_data"
    }
   ],
   "source": [
    "# 8 - plot cost history as training was performed\n",
    "plt.plot(range(len(cost_history)), cost_history)\n",
    "plt.title('MSE error vs time')\n",
    "plt.axis([0, training_epochs, 0, np.max(cost_history)])\n",
    "plt.show()"
   ]
  },
  {
   "cell_type": "code",
   "execution_count": 8,
   "metadata": {},
   "outputs": [
    {
     "name": "stdout",
     "output_type": "stream",
     "text": [
      "Mean square error: 12.291840630403929\n"
     ]
    },
    {
     "data": {
      "image/png": "[encoded data removed]",
      "text/plain": [
       "<Figure size 432x288 with 1 Axes>"
      ]
     },
     "metadata": {},
     "output_type": "display_data"
    }
   ],
   "source": [
    "# 9 - test the model on testing data\n",
    "pred_y = sess.run(y_, feed_dict = {\n",
    "    X: test_x\n",
    "})\n",
    "mse = tf.reduce_mean(tf.square(pred_y - test_y))\n",
    "print('Mean square error: {}'.format(sess.run(mse)))\n",
    "\n",
    "fig, ax = plt.subplots()\n",
    "ax.scatter(test_y, pred_y)\n",
    "ax.plot([test_y.min(), test_y.max()], [test_y.min(), test_y.max()], 'k--', lw=3)\n",
    "ax.set_xlabel('Measured')\n",
    "ax.set_ylabel('Predicted')\n",
    "plt.title('Predicted vs Measured Values')\n",
    "plt.show()"
   ]
  },
  {
   "cell_type": "code",
   "execution_count": 9,
   "metadata": {},
   "outputs": [
    {
     "name": "stdout",
     "output_type": "stream",
     "text": [
      "params: [[ 2.25544664e+01]\n",
      " [-8.04952747e-01]\n",
      " [ 8.15826467e-01]\n",
      " [-2.28774521e-01]\n",
      " [ 7.03860023e-01]\n",
      " [-2.11212980e+00]\n",
      " [ 2.70441067e+00]\n",
      " [-5.12259036e-03]\n",
      " [-3.20576951e+00]\n",
      " [ 2.25494849e+00]\n",
      " [-1.45459482e+00]\n",
      " [-2.07673238e+00]\n",
      " [ 8.75226722e-01]\n",
      " [-3.84671370e+00]]\n"
     ]
    }
   ],
   "source": [
    "weights = sess.run(W)\n",
    "print('params:', weights)"
   ]
  },
  {
   "cell_type": "code",
   "execution_count": 10,
   "metadata": {},
   "outputs": [],
   "source": [
    "def manualPrediction(params, features):\n",
    "    # Implements linear regression\n",
    "    prediction = 0\n",
    "    for param, feature in zip(params, features):\n",
    "        prediction += param * feature\n",
    "    return prediction"
   ]
  },
  {
   "cell_type": "markdown",
   "metadata": {},
   "source": [
    "## Part 2 - Perform Prediction on Encrypted Data"
   ]
  },
  {
   "cell_type": "code",
   "execution_count": 11,
   "metadata": {},
   "outputs": [],
   "source": [
    "# Generate Paillier keypair\n",
    "pubkey, privkey = paillier.generate_paillier_keypair()"
   ]
  },
  {
   "cell_type": "code",
   "execution_count": 12,
   "metadata": {},
   "outputs": [],
   "source": [
    "import copy\n",
    "\n",
    "# Pick a feature row and modify it slightly to simulate an incoming, new data\n",
    "newFeatures = copy.deepcopy(f[10]) # pick the 10th feature row to modify it\n",
    "standardNormalRandom = [x/10 for x in np.random.randn(14, 1)]\n",
    "for i in range(len(newFeatures)):\n",
    "    newFeatures[i] += standardNormalRandom[i]"
   ]
  },
  {
   "cell_type": "code",
   "execution_count": 13,
   "metadata": {},
   "outputs": [
    {
     "name": "stdout",
     "output_type": "stream",
     "text": [
      "Natural data:\n",
      " [ 1.         -0.39226356  0.04877224 -0.47665354 -0.27259857 -0.26515405\n",
      "  0.13158947  0.91479923  1.21297914 -0.52300145 -0.57751897 -1.50523663\n",
      "  0.39302804  1.09292612]\n",
      "\n",
      "Modified data:\n",
      " [ 0.97588627 -0.2707392  -0.08365523 -0.54611    -0.0461532  -0.26649617\n",
      "  0.07936686  0.91578742  1.3106519  -0.45570968 -0.65775254 -1.63463868\n",
      "  0.49898877  1.18833131]\n"
     ]
    }
   ],
   "source": [
    "print('Natural data:\\n', f[10])\n",
    "print('\\nModified data:\\n', newFeatures)"
   ]
  },
  {
   "cell_type": "code",
   "execution_count": 14,
   "metadata": {},
   "outputs": [],
   "source": [
    "# Encrypt the data\n",
    "enc_newFeatures = np.array([pubkey.encrypt(x) for x in newFeatures])\n",
    "enc_newFeatures = np.reshape(enc_newFeatures, (1, len(newFeatures)))[0]"
   ]
  },
  {
   "cell_type": "code",
   "execution_count": 15,
   "metadata": {},
   "outputs": [
    {
     "data": {
      "text/plain": [
       "array([<phe.paillier.EncryptedNumber object at 0x12198bba8>,\n",
       "       <phe.paillier.EncryptedNumber object at 0x12198bb70>,\n",
       "       <phe.paillier.EncryptedNumber object at 0x12198be10>,\n",
       "       <phe.paillier.EncryptedNumber object at 0x12198b9b0>,\n",
       "       <phe.paillier.EncryptedNumber object at 0x12198b898>,\n",
       "       <phe.paillier.EncryptedNumber object at 0x12198ba58>,\n",
       "       <phe.paillier.EncryptedNumber object at 0x12198b710>,\n",
       "       <phe.paillier.EncryptedNumber object at 0x12198bc50>,\n",
       "       <phe.paillier.EncryptedNumber object at 0x12198b8d0>,\n",
       "       <phe.paillier.EncryptedNumber object at 0x12198ba20>,\n",
       "       <phe.paillier.EncryptedNumber object at 0x12198b940>,\n",
       "       <phe.paillier.EncryptedNumber object at 0x12198b780>,\n",
       "       <phe.paillier.EncryptedNumber object at 0x12198b7f0>,\n",
       "       <phe.paillier.EncryptedNumber object at 0x11f863ba8>], dtype=object)"
      ]
     },
     "execution_count": 15,
     "metadata": {},
     "output_type": "execute_result"
    }
   ],
   "source": [
    "enc_newFeatures"
   ]
  },
  {
   "cell_type": "code",
   "execution_count": 16,
   "metadata": {},
   "outputs": [
    {
     "name": "stdout",
     "output_type": "stream",
     "text": [
      "<phe.paillier.EncryptedNumber object at 0x12193a9e8>\n"
     ]
    }
   ],
   "source": [
    "# Perform prediction over the trained model\n",
    "pred_enc = manualPrediction(weights, enc_newFeatures)[0]\n",
    "print(pred_enc)"
   ]
  },
  {
   "cell_type": "code",
   "execution_count": 17,
   "metadata": {},
   "outputs": [
    {
     "data": {
      "text/plain": [
       "18.013331450449925"
      ]
     },
     "execution_count": 17,
     "metadata": {},
     "output_type": "execute_result"
    }
   ],
   "source": [
    "privkey.decrypt(pred_enc)"
   ]
  },
  {
   "cell_type": "code",
   "execution_count": 18,
   "metadata": {},
   "outputs": [],
   "source": [
    "sess.close()"
   ]
  },
  {
   "cell_type": "code",
   "execution_count": 19,
   "metadata": {},
   "outputs": [
    {
     "data": {
      "text/plain": [
       "array([24. , 21.6, 34.7, 33.4, 36.2, 28.7, 22.9, 27.1, 16.5, 18.9])"
      ]
     },
     "execution_count": 19,
     "metadata": {},
     "output_type": "execute_result"
    }
   ],
   "source": [
    "labels[:10]"
   ]
  }
 ],
 "metadata": {
  "kernelspec": {
   "display_name": "Python 3",
   "language": "python",
   "name": "python3"
  },
  "language_info": {
   "codemirror_mode": {
    "name": "ipython",
    "version": 3
   },
   "file_extension": ".py",
   "mimetype": "text/x-python",
   "name": "python",
   "nbconvert_exporter": "python",
   "pygments_lexer": "ipython3",
   "version": "3.6.6rc1"
  }
 },
 "nbformat": 4,
 "nbformat_minor": 2
}
