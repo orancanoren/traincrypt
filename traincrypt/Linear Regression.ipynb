{
 "cells": [
  {
   "cell_type": "markdown",
   "metadata": {},
   "source": [
    "# Linear Regression on `load_boston` Data"
   ]
  },
  {
   "cell_type": "code",
   "execution_count": 1,
   "metadata": {},
   "outputs": [],
   "source": [
    "import tensorflow as tf\n",
    "import matplotlib.pyplot as plt\n",
    "%matplotlib inline\n",
    "\n",
    "from sklearn.datasets import load_boston\n",
    "from sklearn.preprocessing import scale"
   ]
  },
  {
   "cell_type": "markdown",
   "metadata": {},
   "source": [
    "## 1 - Setting up the computation graph"
   ]
  },
  {
   "cell_type": "code",
   "execution_count": 2,
   "metadata": {},
   "outputs": [],
   "source": [
    "features, labels = load_boston(True)\n",
    "\n",
    "# obtain 300 samples for training\n",
    "trainX = scale(features[:300])\n",
    "trainY = labels[:300]\n",
    "\n",
    "# keep 100 samples for validation\n",
    "validX = scale(features[300:400])\n",
    "validY = scale(labels[300:400])\n",
    "\n",
    "# keep the remaining for testing\n",
    "testX = scale(features[400:])\n",
    "testY = scale(features[400:])"
   ]
  },
  {
   "cell_type": "code",
   "execution_count": 3,
   "metadata": {},
   "outputs": [],
   "source": [
    "# generate a set of normalized set of numbers from the normal distribution\n",
    "# choosing a random set of initial weights is considered a good practice in ML\n",
    "w = tf.Variable(tf.truncated_normal([13, 1], mean=0.0, stddev=1.0, dtype=tf.float64))\n",
    "\n",
    "# introduce the linear bias\n",
    "b = tf.Variable(tf.zeros(1, dtype=tf.float64))"
   ]
  },
  {
   "cell_type": "code",
   "execution_count": 4,
   "metadata": {},
   "outputs": [],
   "source": [
    "def calc(x, y):\n",
    "    '''Returns predictions and error'''\n",
    "    \n",
    "    predictions = tf.add(b, tf.matmul(x, w))\n",
    "    error = tf.reduce_mean(tf.square(y - predictions))\n",
    "    \n",
    "    return (predictions, error)"
   ]
  },
  {
   "cell_type": "code",
   "execution_count": 5,
   "metadata": {},
   "outputs": [],
   "source": [
    "y, cost = calc(trainX, trainY)\n",
    "\n",
    "learning_rate = 0.025\n",
    "epochs = 3000\n",
    "\n",
    "# keep iteration & cost data for plotting after running the model\n",
    "points = [[], []] # [iteration (i.e. epoch), model error (i.e. cost)]\n",
    "\n",
    "init = tf.global_variables_initializer()\n",
    "optimizer = tf.train.GradientDescentOptimizer(learning_rate).minimize(cost)"
   ]
  },
  {
   "cell_type": "markdown",
   "metadata": {},
   "source": [
    "## Running the graph in a TF Session"
   ]
  },
  {
   "cell_type": "code",
   "execution_count": 7,
   "metadata": {},
   "outputs": [
    {
     "name": "stdout",
     "output_type": "stream",
     "text": [
      "Error in epoch 0: 673.1611918205509\n",
      "Error in epoch 100: 78.9426532607856\n",
      "Error in epoch 200: 78.7635905396452\n",
      "Error in epoch 300: 78.73527529913295\n",
      "Error in epoch 400: 78.72817079396212\n",
      "Error in epoch 500: 78.72615348656184\n",
      "Error in epoch 600: 78.72555618790997\n",
      "Error in epoch 700: 78.72537648101114\n",
      "Error in epoch 800: 78.72532203076162\n",
      "Error in epoch 900: 78.7253054760554\n",
      "Error in epoch 1000: 78.7253004339986\n",
      "Error in epoch 1100: 78.72529889690385\n",
      "Error in epoch 1200: 78.72529842807529\n",
      "Error in epoch 1300: 78.72529828503885\n",
      "Error in epoch 1400: 78.72529824139205\n",
      "Error in epoch 1500: 78.72529822807289\n",
      "Error in epoch 1600: 78.72529822400828\n",
      "Error in epoch 1700: 78.72529822276707\n",
      "Error in epoch 1800: 78.7252982223884\n",
      "Error in epoch 1900: 78.72529822227312\n",
      "Error in epoch 2000: 78.72529822223804\n",
      "Error in epoch 2100: 78.7252982222269\n",
      "Error in epoch 2200: 78.72529822222359\n",
      "Error in epoch 2300: 78.72529822222275\n",
      "Error in epoch 2400: 78.72529822222296\n",
      "Error in epoch 2500: 78.72529822222232\n",
      "Error in epoch 2600: 78.72529822222235\n",
      "Error in epoch 2700: 78.72529822222222\n",
      "Error in epoch 2800: 78.72529822222218\n",
      "Error in epoch 2900: 78.72529822222245\n"
     ]
    },
    {
     "data": {
      "image/png": "[encoded data removed]",
      "text/plain": [
       "<Figure size 432x288 with 1 Axes>"
      ]
     },
     "metadata": {},
     "output_type": "display_data"
    },
    {
     "name": "stdout",
     "output_type": "stream",
     "text": [
      "Validation error: 650.4682351111085 \n",
      "\n",
      "Test error: 650.3143889537322 \n",
      "\n"
     ]
    }
   ],
   "source": [
    "# TRAIN THE MODEL\n",
    "\n",
    "with tf.Session() as sess:\n",
    "    # 1 - initialize variable operators\n",
    "    sess.run(init)\n",
    "    \n",
    "    for epoch in range(epochs):\n",
    "        sess.run(optimizer)\n",
    "        \n",
    "        if epoch % 10 == 0:\n",
    "            points[0].append(epoch + 1)\n",
    "            points[1].append(sess.run(cost))\n",
    "            \n",
    "        if epoch % 100 == 0:\n",
    "            print('Error in epoch {}:'.format(epoch), sess.run(cost))\n",
    "    \n",
    "    plt.title('Model Error vs Epoch')\n",
    "    plt.ylabel('Error')\n",
    "    plt.xlabel('Epoch')\n",
    "    plt.plot(points[0], points[1], 'r--')\n",
    "    plt.axis([0, epochs, 50, 600])\n",
    "    plt.show()\n",
    "    \n",
    "    valid_cost = calc(validX, validY)[1]\n",
    "    \n",
    "    print('Validation error:', sess.run(valid_cost), '\\n')\n",
    "    \n",
    "    test_cost = calc(testX, testY)[1]\n",
    "    \n",
    "    print('Test error:', sess.run(test_cost), '\\n')"
   ]
  }
 ],
 "metadata": {
  "kernelspec": {
   "display_name": "Python 3",
   "language": "python",
   "name": "python3"
  },
  "language_info": {
   "codemirror_mode": {
    "name": "ipython",
    "version": 3
   },
   "file_extension": ".py",
   "mimetype": "text/x-python",
   "name": "python",
   "nbconvert_exporter": "python",
   "pygments_lexer": "ipython3",
   "version": "3.6.5"
  }
 },
 "nbformat": 4,
 "nbformat_minor": 2
}
